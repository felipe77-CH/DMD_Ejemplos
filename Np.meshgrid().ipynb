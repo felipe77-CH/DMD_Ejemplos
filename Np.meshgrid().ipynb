{
 "cells": [
  {
   "cell_type": "markdown",
   "metadata": {},
   "source": [
    "# Operaciones con listas en Np.meshgrid()"
   ]
  },
  {
   "cell_type": "code",
   "execution_count": 5,
   "metadata": {},
   "outputs": [
    {
     "name": "stdout",
     "output_type": "stream",
     "text": [
      "x_1 = \n",
      "[[3. 4. 5.]\n",
      " [3. 4. 5.]\n",
      " [3. 4. 5.]]\n",
      "y_1 = \n",
      "[[3. 3. 3.]\n",
      " [4. 4. 4.]\n",
      " [5. 5. 5.]]\n"
     ]
    }
   ],
   "source": [
    "import numpy as np\n",
    "\n",
    "x= np.linspace(1,3,3)\n",
    "\n",
    "y= x= np.linspace(3,5,3)\n",
    "\n",
    "x_1, y_1 = np.meshgrid(x, y)\n",
    " \n",
    "print(\"x_1 = \")\n",
    "print(x_1)\n",
    "print(\"y_1 = \")\n",
    "print(y_1)"
   ]
  },
  {
   "cell_type": "code",
   "execution_count": 3,
   "metadata": {},
   "outputs": [
    {
     "name": "stdout",
     "output_type": "stream",
     "text": [
      "x_1 = \n",
      "[[1. 2. 3.]\n",
      " [1. 2. 3.]\n",
      " [1. 2. 3.]\n",
      " [1. 2. 3.]]\n",
      "y_1 = \n",
      "[[5 5 5]\n",
      " [6 6 6]\n",
      " [7 7 7]\n",
      " [8 8 8]]\n"
     ]
    }
   ],
   "source": [
    "import numpy as np\n",
    "\n",
    "x= np.linspace(1,3,3)\n",
    "\n",
    "y= np.array([[5, 6],\n",
    "                   [7, 8]])\n",
    "\n",
    "x_1, y_1 = np.meshgrid(x, y)\n",
    " \n",
    "print(\"x_1 = \")\n",
    "print(x_1)\n",
    "print(\"y_1 = \")\n",
    "print(y_1)"
   ]
  },
  {
   "cell_type": "markdown",
   "metadata": {},
   "source": [
    "# Operaciones con Matrices  en Np.meshgrid()"
   ]
  },
  {
   "cell_type": "code",
   "execution_count": 4,
   "metadata": {},
   "outputs": [
    {
     "name": "stdout",
     "output_type": "stream",
     "text": [
      "x_1 = \n",
      "[[1 2 3 4 3 4]\n",
      " [1 2 3 4 3 4]\n",
      " [1 2 3 4 3 4]\n",
      " [1 2 3 4 3 4]]\n",
      "y_1 = \n",
      "[[1 1 1 1 1 1]\n",
      " [2 2 2 2 2 2]\n",
      " [3 3 3 3 3 3]\n",
      " [4 4 4 4 4 4]]\n"
     ]
    }
   ],
   "source": [
    "import numpy as np\n",
    "\n",
    "x = np.array([[1, 2],\n",
    "              [3, 4],[3, 4]])\n",
    "\n",
    "y = np.array([[1, 2],\n",
    "              [3, 4]])\n",
    "\n",
    "# Aplanar las matrices\n",
    "x_flat = x.flatten()\n",
    "y_flat = y.flatten()\n",
    "\n",
    "# Crear la cuadrícula\n",
    "x_1, y_1 = np.meshgrid(x_flat, y_flat)\n",
    "\n",
    "print(\"x_1 = \")\n",
    "print(x_1)\n",
    "print(\"y_1 = \")\n",
    "print(y_1)\n"
   ]
  },
  {
   "cell_type": "code",
   "execution_count": null,
   "metadata": {},
   "outputs": [],
   "source": []
  }
 ],
 "metadata": {
  "kernelspec": {
   "display_name": "Python 3",
   "language": "python",
   "name": "python3"
  },
  "language_info": {
   "codemirror_mode": {
    "name": "ipython",
    "version": 3
   },
   "file_extension": ".py",
   "mimetype": "text/x-python",
   "name": "python",
   "nbconvert_exporter": "python",
   "pygments_lexer": "ipython3",
   "version": "3.12.1"
  }
 },
 "nbformat": 4,
 "nbformat_minor": 2
}
