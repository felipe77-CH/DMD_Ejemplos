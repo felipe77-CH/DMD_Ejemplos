{
 "cells": [
  {
   "cell_type": "markdown",
   "metadata": {},
   "source": [
    "# Utilizando Numpy"
   ]
  },
  {
   "cell_type": "code",
   "execution_count": 94,
   "metadata": {},
   "outputs": [
    {
     "name": "stdout",
     "output_type": "stream",
     "text": [
      "[[ 3.  3.  2.]\n",
      " [ 2.  3. -2.]\n",
      " [ 2.  4. -2.]]\n"
     ]
    }
   ],
   "source": [
    "# Imports\n",
    " \n",
    "import matplotlib.pyplot as plt\n",
    "import numpy as np\n",
    "from scipy.linalg import svd\n",
    " \n",
    "\"\"\"\n",
    "Singular Value Decomposition (SVD) \n",
    "\"\"\"\n",
    "import numpy as np\n",
    " \n",
    "#Creating a matrix A\n",
    "A = np.array([[3,3,2],[2,3,-2],[2,4,-2]])\n",
    " \n",
    "#Performing SVD\n",
    "U, D, VT = np.linalg.svd(A)\n",
    "\n",
    "\n",
    "#Checking if we can remake the original matrix using U,D,VT\n",
    "A_remake = (U @ np.diag(D) @ VT)\n",
    "\n",
    "print(A_remake)\n"
   ]
  },
  {
   "cell_type": "code",
   "execution_count": 95,
   "metadata": {},
   "outputs": [],
   "source": [
    "import numpy as np\n",
    "import numpy.linalg as LA\n",
    "import matplotlib.pyplot as plt"
   ]
  },
  {
   "cell_type": "code",
   "execution_count": 97,
   "metadata": {},
   "outputs": [
    {
     "name": "stdout",
     "output_type": "stream",
     "text": [
      "Rank of matrix:\n",
      " 5\n",
      "\n",
      "\n",
      "S: \n",
      " [60.14 42.45 20.13  7.62  2.98]\n",
      "\n",
      "\n",
      "la matriz original es:\n",
      "[[ -4.48  17.27  28.03  -6.04  21.42]\n",
      " [  7.87   5.37  -9.51   9.81 -11.35]\n",
      " [-27.55 -12.68  18.44 -26.83  21.81]\n",
      " [ -8.52   3.25   2.46  13.88   8.42]\n",
      " [ -3.35  15.61  10.9   26.41  -2.36]]\n",
      "\n",
      "\n",
      "la matriz Reconstruida es:\n",
      "[[-21.62   8.39 -27.97  13.17  10.28]\n",
      " [ 10.15   1.16  13.41  -2.8   10.7 ]\n",
      " [-14.74  -4.52 -34.3    9.66 -30.8 ]\n",
      " [  0.74  17.15  -6.27  -4.21   1.16]\n",
      " [  6.85  19.33  -8.74  -8.4   22.57]]\n",
      "\n",
      "\n",
      "[[ 17.13   8.88  56.   -19.21  11.14]\n",
      " [ -2.27   4.2  -22.93  12.62 -22.05]\n",
      " [-12.82  -8.16  52.73 -36.49  52.61]\n",
      " [ -9.27 -13.9    8.74  18.09   7.26]\n",
      " [-10.2   -3.72  19.65  34.81 -24.93]]\n",
      "\n",
      "\n",
      "2.842170943040401e-14\n"
     ]
    }
   ],
   "source": [
    "np.set_printoptions(precision=2)\n",
    "\n",
    "# Define the matrix\n",
    "A=matriz_aleatoria = np.random.normal(loc=5, scale=15, size=(5, 5))\n",
    "\n",
    "\n",
    "# Compute the SVD of the matrix\n",
    "U, S, V = np.linalg.svd(A,full_matrices=True)\n",
    "\n",
    "# Compute the rank of the matrix\n",
    "rank = np.linalg.matrix_rank(A)\n",
    "\n",
    "# Print the rank of the matrix\n",
    "print(\"Rank of matrix:\\n\", rank)\n",
    "print(\"\\n\")\n",
    "\n",
    "print(\"S: \\n\", S)\n",
    "print(\"\\n\")\n",
    "#Checking if we can remake the original matrix using U,D,VT\n",
    "\n",
    "A_remake = (U @ np.diag(S) @ V.T)\n",
    "\n",
    "print(\"la matriz original es:\")\n",
    "print(A)\n",
    "print(\"\\n\")\n",
    "print(\"la matriz Reconstruida es:\")\n",
    "print(A_remake)\n",
    "print(\"\\n\")\n",
    "print(A-A_remake)\n",
    "print(\"\\n\")\n",
    "print(np.linalg.norm(A)-np.linalg.norm(A_remake))"
   ]
  },
  {
   "cell_type": "code",
   "execution_count": null,
   "metadata": {},
   "outputs": [],
   "source": []
  }
 ],
 "metadata": {
  "kernelspec": {
   "display_name": "Python 3",
   "language": "python",
   "name": "python3"
  },
  "language_info": {
   "codemirror_mode": {
    "name": "ipython",
    "version": 3
   },
   "file_extension": ".py",
   "mimetype": "text/x-python",
   "name": "python",
   "nbconvert_exporter": "python",
   "pygments_lexer": "ipython3",
   "version": "3.12.1"
  }
 },
 "nbformat": 4,
 "nbformat_minor": 2
}
