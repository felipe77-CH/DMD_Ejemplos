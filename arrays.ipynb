{
 "cells": [
  {
   "cell_type": "code",
   "execution_count": 1,
   "metadata": {},
   "outputs": [],
   "source": [
    "import numpy as np "
   ]
  },
  {
   "cell_type": "markdown",
   "metadata": {},
   "source": [
    "# Aray de 1 Dimension "
   ]
  },
  {
   "cell_type": "code",
   "execution_count": 2,
   "metadata": {},
   "outputs": [
    {
     "name": "stdout",
     "output_type": "stream",
     "text": [
      "[1 2 3 4 5 6]\n",
      "6\n"
     ]
    }
   ],
   "source": [
    "numeros=np.array([1,2,3,4,5,6], np.int16)\n",
    "type(numeros)\n",
    "print(numeros)\n",
    "#Aceder en 1-D a travez de un unico elemento \n",
    "print(numeros[-1])"
   ]
  },
  {
   "cell_type": "code",
   "execution_count": 3,
   "metadata": {},
   "outputs": [
    {
     "name": "stdout",
     "output_type": "stream",
     "text": [
      "[   100   1000  10000 100000]\n"
     ]
    }
   ],
   "source": [
    "niter = 4\n",
    "ndims = 10 ** np.arange(2, 2 + niter)\n",
    "\n",
    "print(ndims)\n"
   ]
  },
  {
   "cell_type": "code",
   "execution_count": 4,
   "metadata": {},
   "outputs": [
    {
     "name": "stdout",
     "output_type": "stream",
     "text": [
      "[0.25 0.25 0.25 0.25 0.25]\n"
     ]
    }
   ],
   "source": [
    "n=5\n",
    "x = np.array([0.25] * n)\n",
    "\n",
    "print(x)"
   ]
  },
  {
   "cell_type": "markdown",
   "metadata": {},
   "source": [
    "# Array Bidimensional "
   ]
  },
  {
   "cell_type": "code",
   "execution_count": 5,
   "metadata": {},
   "outputs": [
    {
     "name": "stdout",
     "output_type": "stream",
     "text": [
      "[[1 2 3]\n",
      " [4 5 5]]\n",
      "3\n"
     ]
    }
   ],
   "source": [
    "M= np.array([[1,2,3],[4,5,5]])\n",
    "print(M)\n",
    "print(M[0,2])"
   ]
  },
  {
   "cell_type": "markdown",
   "metadata": {},
   "source": [
    "# Array tridimensiona"
   ]
  },
  {
   "cell_type": "markdown",
   "metadata": {},
   "source": [
    "# informacion de una matriz"
   ]
  },
  {
   "cell_type": "code",
   "execution_count": 6,
   "metadata": {},
   "outputs": [
    {
     "name": "stdout",
     "output_type": "stream",
     "text": [
      "El numero de filas es : 2 y el numero de columnas es 3\n"
     ]
    }
   ],
   "source": [
    "M= np.array([[1,2,3],[4,5,5]])\n",
    "print(f\"El numero de filas es : {M.shape[0]} y el numero de columnas es {M.shape[1]}\")"
   ]
  },
  {
   "cell_type": "code",
   "execution_count": 7,
   "metadata": {},
   "outputs": [
    {
     "name": "stdout",
     "output_type": "stream",
     "text": [
      "Our Array...\n",
      " [[1. 0. 0. 0. 0.]\n",
      " [0. 1. 0. 0. 0.]\n",
      " [0. 0. 1. 0. 0.]\n",
      " [0. 0. 0. 1. 0.]\n",
      " [0. 0. 0. 0. 1.]]\n",
      "\n",
      "Dimensions of our Array...\n",
      " 2\n",
      "\n",
      "Datatype of our Array object...\n",
      " float64\n",
      "\n",
      "Shape of our Array object...\n",
      " (5, 5)\n",
      "\n",
      "Result (rank)...\n",
      " 5\n"
     ]
    }
   ],
   "source": [
    "import numpy as np\n",
    "from numpy.linalg import matrix_rank\n",
    "\n",
    "# Create an array\n",
    "arr = np.eye(5)\n",
    "\n",
    "# Display the array\n",
    "print(\"Our Array...\\n\",arr)\n",
    "\n",
    "# Check the Dimensions\n",
    "print(\"\\nDimensions of our Array...\\n\",arr.ndim)\n",
    "\n",
    "# Get the Datatype\n",
    "print(\"\\nDatatype of our Array object...\\n\",arr.dtype)\n",
    "\n",
    "# Get the Shape\n",
    "print(\"\\nShape of our Array object...\\n\",arr.shape)\n",
    "\n",
    "# To Return matrix rank of array using Singular Value Decomposition method, use the numpy.linalg.matrix_rank() method in Python\n",
    "print(\"\\nResult (rank)...\\n\",matrix_rank(arr))"
   ]
  },
  {
   "cell_type": "markdown",
   "metadata": {},
   "source": [
    "# Dicas con biblioteca Numpy"
   ]
  },
  {
   "cell_type": "markdown",
   "metadata": {},
   "source": [
    "# Funcion np.random\n",
    "\n",
    "- `np.random.rand()`: Genera números aleatorios distribuidos uniformemente en el intervalo [0, 1].\n",
    "- `np.random.randn()`: Genera números aleatorios distribuidos normalmente con media 0 y desviación estándar 1.\n",
    "- `np.random.randint()`: Genera números enteros aleatorios dentro de un rango especificado.\n",
    "- `np.random.shuffle()`: Mezcla aleatoriamente los elementos de una secuencia.\n",
    "- `np.random.choice()`: Genera una muestra aleatoria de una secuencia dada.\n",
    "- `np.random.permutation()`: Devuelve una permutación aleatoria de una secuencia dada.\n"
   ]
  },
  {
   "cell_type": "code",
   "execution_count": 8,
   "metadata": {},
   "outputs": [
    {
     "name": "stdout",
     "output_type": "stream",
     "text": [
      "[5 3 8 6 2 0 1 4 7]\n"
     ]
    }
   ],
   "source": [
    "M= np.array([[1,2,3],[4,5,6],[7,8,9]])\n",
    "#M=np.linspace(0,1,10)\n",
    "\n",
    "# función de NumPy que genera una permutación aleatoria de un conjunto de números, toma como variable un entero \n",
    "random_matrix = np.random.permutation(\n",
    "    M.shape[0] * M.shape[1]\n",
    ")\n",
    "# imprime un array con la totalidad de los elementos de una matriz \n",
    "print(random_matrix)"
   ]
  },
  {
   "cell_type": "code",
   "execution_count": 9,
   "metadata": {},
   "outputs": [
    {
     "name": "stdout",
     "output_type": "stream",
     "text": [
      "[[0.92061578 0.19908046]\n",
      " [0.16889774 0.68036851]]\n"
     ]
    }
   ],
   "source": [
    "# Primer ejemplo \n",
    "l=np.random.rand(2,2)\n",
    "print(l)"
   ]
  },
  {
   "cell_type": "markdown",
   "metadata": {},
   "source": [
    "# Funcion .reshape()\n",
    "\n",
    "\n",
    "La función `reshape ()` en NumPy se utiliza para cambiar la forma (dimensiones) de un array sin cambiar sus datos subyacentes. Básicamente, toma un array existente y lo remodela en una nueva forma especificada por el usuario."
   ]
  },
  {
   "cell_type": "code",
   "execution_count": 10,
   "metadata": {},
   "outputs": [
    {
     "name": "stdout",
     "output_type": "stream",
     "text": [
      "[[ 0  1  2  3]\n",
      " [ 4  5  6  7]\n",
      " [ 8  9 10 11]]\n"
     ]
    }
   ],
   "source": [
    "# Crear un array unidimensional con 12 elementos\n",
    "arr = np.arange(12)\n",
    "# Utilizar reshape para convertirlo en una matriz de 3 filas y 4 columnas\n",
    "reshaped_arr = arr.reshape(3, 4)\n",
    "print(reshaped_arr)\n"
   ]
  },
  {
   "cell_type": "code",
   "execution_count": 11,
   "metadata": {},
   "outputs": [
    {
     "name": "stdout",
     "output_type": "stream",
     "text": [
      "[[5 3 8]\n",
      " [6 2 0]\n",
      " [1 4 7]]\n"
     ]
    }
   ],
   "source": [
    "# Genera el mismo codigo pero como una matriz \n",
    "# Random matrix corresponde a un array con lo slementos de la matriz original \n",
    "# Reshape se utiliza para cambiar un array a una forma especial \n",
    "\n",
    "random_matrix = random_matrix.reshape(\n",
    "    M.shape[1], M.shape[0]\n",
    ")\n",
    "\n",
    "print(random_matrix)\n"
   ]
  },
  {
   "cell_type": "markdown",
   "metadata": {},
   "source": [
    "# Funcion np.linalg.norm()-Norma de una matriz"
   ]
  },
  {
   "cell_type": "code",
   "execution_count": 12,
   "metadata": {},
   "outputs": [
    {
     "name": "stdout",
     "output_type": "stream",
     "text": [
      "la norma del la matriz es 5.48\n"
     ]
    }
   ],
   "source": [
    "m=np.array([[1,2],[3,4]])\n",
    "print(f\"la norma del la matriz es {np.linalg.norm(m):.2f}\")"
   ]
  },
  {
   "cell_type": "markdown",
   "metadata": {},
   "source": [
    "# Funcion np.arange()-crear array con num esp\n",
    "la funcion es de la forma `numpy.arange([start, ]stop, [step, ]dtype=None, *, like=None)`"
   ]
  },
  {
   "cell_type": "code",
   "execution_count": 13,
   "metadata": {},
   "outputs": [
    {
     "name": "stdout",
     "output_type": "stream",
     "text": [
      "[-3 -2 -1  0  1  2  3  4  5  6  7  8]\n"
     ]
    }
   ],
   "source": [
    "a=np.arange(0, 5, 0.5, dtype=int)\n",
    "a=np.arange(-3, 3, 0.5, dtype=int)\n",
    "print(a)"
   ]
  },
  {
   "cell_type": "code",
   "execution_count": 14,
   "metadata": {},
   "outputs": [
    {
     "name": "stdout",
     "output_type": "stream",
     "text": [
      "[0, 1, 7776, 8801, 6176, 625, 6576, 4001]\n",
      "[0, 1, 7776, 7185, 0, 5969, 4816, 3361]\n"
     ]
    }
   ],
   "source": [
    "power = 40\n",
    "modulo = 10000\n",
    "\n",
    "# range(8) genera una secuencia de enteros\n",
    "# np.arange(8) genera una secuencia de números de punto flotante. Esto significa que los valores en x1 serán enteros, mientras que los valores en x2 serán números de punto flotante.\n",
    "\n",
    "x1 = [(n ** power) % modulo for n in range(8)]\n",
    "x2 = [(n ** power) % modulo for n in np.arange(8)]\n",
    "\n",
    "print(x1)\n",
    "\n",
    "print(x2)"
   ]
  },
  {
   "cell_type": "code",
   "execution_count": 15,
   "metadata": {},
   "outputs": [
    {
     "name": "stdout",
     "output_type": "stream",
     "text": [
      "[   100   1000  10000 100000]\n"
     ]
    }
   ],
   "source": [
    "niter = 4\n",
    "ndims = 10**np.arange(2, 2 + niter)\n",
    "\n",
    "print(ndims)"
   ]
  },
  {
   "cell_type": "code",
   "execution_count": 16,
   "metadata": {},
   "outputs": [
    {
     "name": "stdout",
     "output_type": "stream",
     "text": [
      "[1 2 3 4 5 6 7 8 9]\n"
     ]
    }
   ],
   "source": [
    "a=np.arange(1,10)\n",
    "print(a)"
   ]
  },
  {
   "cell_type": "markdown",
   "metadata": {},
   "source": [
    "## Funcion np.round()"
   ]
  },
  {
   "cell_type": "code",
   "execution_count": 17,
   "metadata": {},
   "outputs": [
    {
     "name": "stdout",
     "output_type": "stream",
     "text": [
      "[1.23 2.45 3.79 4.99]\n"
     ]
    }
   ],
   "source": [
    "import numpy as np\n",
    "\n",
    "# Crear un array con valores decimales\n",
    "arr = np.array([1.234, 2.454, 3.786, 4.991])\n",
    "\n",
    "# Redondear los elementos del array a dos decimales\n",
    "rounded_arr = np.round(arr, decimals=2)\n",
    "\n",
    "print(rounded_arr)\n"
   ]
  },
  {
   "cell_type": "markdown",
   "metadata": {},
   "source": [
    "# Funcion np.log()"
   ]
  },
  {
   "cell_type": "code",
   "execution_count": 18,
   "metadata": {},
   "outputs": [
    {
     "name": "stdout",
     "output_type": "stream",
     "text": [
      "[0.         0.69314718 1.09861229 1.38629436 1.60943791]\n"
     ]
    }
   ],
   "source": [
    "import numpy as np\n",
    "\n",
    "# Crear un array con algunos valores\n",
    "arr = np.array([1, 2, 3, 4, 5])\n",
    "\n",
    "# Calcular el logaritmo natural de cada elemento del array\n",
    "log_arr = np.log(arr)\n",
    "\n",
    "print(log_arr)\n"
   ]
  },
  {
   "cell_type": "markdown",
   "metadata": {},
   "source": [
    "# Fucnion np.round ()\n",
    "\n",
    "Redondear los elementos de un array a la cantidad de decimales especificada. Su sintaxis básica es la siguiente:\n",
    "\n",
    "numpy.round(a, decimals=0, out=None)\n"
   ]
  },
  {
   "cell_type": "markdown",
   "metadata": {},
   "source": [
    "# Construccion de matrices con Arrays "
   ]
  },
  {
   "cell_type": "code",
   "execution_count": 19,
   "metadata": {},
   "outputs": [
    {
     "name": "stdout",
     "output_type": "stream",
     "text": [
      "[[1 2 3]\n",
      " [4 5 6]\n",
      " [7 8 9]]\n",
      "(3, 3)\n",
      "[[1 4 7]\n",
      " [2 5 8]\n",
      " [3 6 9]]\n",
      "(3, 3)\n"
     ]
    }
   ],
   "source": [
    "import numpy as np\n",
    "\n",
    "# Crear algunos arrays de ejemplo\n",
    "array1 = np.array([1, 2, 3])\n",
    "array2 = np.array([4, 5, 6])\n",
    "array3 = np.array([7, 8, 9])\n",
    "\n",
    "# Apilar verticalmente\n",
    "matriz_vertical = np.vstack([array1, array2, array3])\n",
    "\n",
    "print(matriz_vertical)\n",
    "print(matriz_vertical.shape)\n",
    "\n",
    "# Apilar horizontalmente\n",
    "matriz_horizontal = np.hstack([array1[:, np.newaxis], array2[:, np.newaxis], array3[:, np.newaxis]])\n",
    "\n",
    "print(matriz_horizontal)\n",
    "print(matriz_horizontal.shape)\n"
   ]
  },
  {
   "cell_type": "markdown",
   "metadata": {},
   "source": [
    "# Extraer una fila desde una matriz "
   ]
  },
  {
   "cell_type": "code",
   "execution_count": 20,
   "metadata": {},
   "outputs": [
    {
     "name": "stdout",
     "output_type": "stream",
     "text": [
      "Primera fila: [1 2 3]\n"
     ]
    }
   ],
   "source": [
    "import numpy as np\n",
    "\n",
    "# Crear una matriz de ejemplo\n",
    "matriz = np.array([[1, 2, 3], [4, 5, 6], [7, 8, 9]])\n",
    "\n",
    "# Extraer la primera fila\n",
    "primera_fila = matriz[0, :]  # Seleccionar la primera fila y todas las columnas\n",
    "\n",
    "print(\"Primera fila:\", primera_fila)  # [1, 2, 3]\n"
   ]
  },
  {
   "cell_type": "markdown",
   "metadata": {},
   "source": [
    "#  Extraer una columna desde una matriz "
   ]
  },
  {
   "cell_type": "code",
   "execution_count": 21,
   "metadata": {},
   "outputs": [
    {
     "name": "stdout",
     "output_type": "stream",
     "text": [
      "Primera columna: [1 4 7]\n"
     ]
    }
   ],
   "source": [
    "# Extraer la primera columna\n",
    "primera_columna = matriz[:, 0]  # Seleccionar todas las filas y la primera columna\n",
    "\n",
    "print(\"Primera columna:\", primera_columna)  # [1, 4, 7]\n"
   ]
  },
  {
   "cell_type": "code",
   "execution_count": null,
   "metadata": {},
   "outputs": [],
   "source": []
  }
 ],
 "metadata": {
  "kernelspec": {
   "display_name": "Python 3",
   "language": "python",
   "name": "python3"
  },
  "language_info": {
   "codemirror_mode": {
    "name": "ipython",
    "version": 3
   },
   "file_extension": ".py",
   "mimetype": "text/x-python",
   "name": "python",
   "nbconvert_exporter": "python",
   "pygments_lexer": "ipython3",
   "version": "3.10.12"
  }
 },
 "nbformat": 4,
 "nbformat_minor": 2
}
